{
    "cells": [
        {
            "cell_type": "markdown",
            "metadata": {},
            "source": "# My Jupyter Notebook on IBM Watson Studio"
        },
        {
            "cell_type": "markdown",
            "metadata": {},
            "source": "**shahriar**\nI want to be  data scientist."
        },
        {
            "cell_type": "markdown",
            "metadata": {},
            "source": "*I want to be  a data scientist because i love to deal with data and very much ambitious of pursuing great career*"
        },
        {
            "cell_type": "markdown",
            "metadata": {},
            "source": "### My code is going to be print Hello World"
        },
        {
            "cell_type": "code",
            "execution_count": 1,
            "metadata": {},
            "outputs": [
                {
                    "name": "stdout",
                    "output_type": "stream",
                    "text": "Waiting for a Spark session to start...\nSpark Initialization Done! ApplicationId = app-20200723163801-0000\nKERNEL_ID = b974ba42-7f8c-44a6-a6ed-2afd2cc046b3\nHello World\n"
                }
            ],
            "source": "x = \"Hello World\"\nprint(x)"
        },
        {
            "cell_type": "markdown",
            "metadata": {
                "collapsed": true
            },
            "source": "* list 1\n* list 2\n\n~~strikethrough~~\n\n\n[link](https://www.google.com)"
        }
    ],
    "metadata": {
        "kernelspec": {
            "display_name": "Python 3.6 with Spark",
            "language": "python3",
            "name": "python36"
        },
        "language_info": {
            "codemirror_mode": {
                "name": "ipython",
                "version": 3
            },
            "file_extension": ".py",
            "mimetype": "text/x-python",
            "name": "python",
            "nbconvert_exporter": "python",
            "pygments_lexer": "ipython3",
            "version": "3.6.8"
        }
    },
    "nbformat": 4,
    "nbformat_minor": 1
}